{
 "cells": [
  {
   "cell_type": "code",
   "execution_count": 1,
   "id": "3a26778d",
   "metadata": {},
   "outputs": [],
   "source": [
    "import pandas as pd"
   ]
  },
  {
   "cell_type": "code",
   "execution_count": 2,
   "id": "b6f39191",
   "metadata": {},
   "outputs": [],
   "source": [
    "import numpy as np"
   ]
  },
  {
   "cell_type": "code",
   "execution_count": 3,
   "id": "ac65a895",
   "metadata": {},
   "outputs": [],
   "source": [
    "df=pd.read_csv(\"important_features_lbp.csv\")"
   ]
  },
  {
   "cell_type": "code",
   "execution_count": 4,
   "id": "65a12527",
   "metadata": {},
   "outputs": [
    {
     "data": {
      "text/html": [
       "<div>\n",
       "<style scoped>\n",
       "    .dataframe tbody tr th:only-of-type {\n",
       "        vertical-align: middle;\n",
       "    }\n",
       "\n",
       "    .dataframe tbody tr th {\n",
       "        vertical-align: top;\n",
       "    }\n",
       "\n",
       "    .dataframe thead th {\n",
       "        text-align: right;\n",
       "    }\n",
       "</style>\n",
       "<table border=\"1\" class=\"dataframe\">\n",
       "  <thead>\n",
       "    <tr style=\"text-align: right;\">\n",
       "      <th></th>\n",
       "      <th>feature4</th>\n",
       "      <th>feature5</th>\n",
       "      <th>feature6</th>\n",
       "      <th>feature7</th>\n",
       "      <th>feature8</th>\n",
       "      <th>feature9</th>\n",
       "      <th>feature10</th>\n",
       "      <th>feature11</th>\n",
       "      <th>feature12</th>\n",
       "      <th>feature13</th>\n",
       "      <th>...</th>\n",
       "      <th>feature3121</th>\n",
       "      <th>feature3122</th>\n",
       "      <th>feature3123</th>\n",
       "      <th>feature3124</th>\n",
       "      <th>feature3125</th>\n",
       "      <th>feature3126</th>\n",
       "      <th>feature3127</th>\n",
       "      <th>feature3128</th>\n",
       "      <th>feature3129</th>\n",
       "      <th>label</th>\n",
       "    </tr>\n",
       "  </thead>\n",
       "  <tbody>\n",
       "    <tr>\n",
       "      <th>0</th>\n",
       "      <td>226</td>\n",
       "      <td>226</td>\n",
       "      <td>226</td>\n",
       "      <td>226</td>\n",
       "      <td>226</td>\n",
       "      <td>226</td>\n",
       "      <td>226</td>\n",
       "      <td>226</td>\n",
       "      <td>226</td>\n",
       "      <td>226</td>\n",
       "      <td>...</td>\n",
       "      <td>226</td>\n",
       "      <td>226</td>\n",
       "      <td>226</td>\n",
       "      <td>226</td>\n",
       "      <td>226</td>\n",
       "      <td>226</td>\n",
       "      <td>226</td>\n",
       "      <td>226</td>\n",
       "      <td>226</td>\n",
       "      <td>0</td>\n",
       "    </tr>\n",
       "    <tr>\n",
       "      <th>1</th>\n",
       "      <td>226</td>\n",
       "      <td>226</td>\n",
       "      <td>226</td>\n",
       "      <td>226</td>\n",
       "      <td>226</td>\n",
       "      <td>226</td>\n",
       "      <td>226</td>\n",
       "      <td>226</td>\n",
       "      <td>226</td>\n",
       "      <td>226</td>\n",
       "      <td>...</td>\n",
       "      <td>226</td>\n",
       "      <td>226</td>\n",
       "      <td>226</td>\n",
       "      <td>226</td>\n",
       "      <td>226</td>\n",
       "      <td>226</td>\n",
       "      <td>226</td>\n",
       "      <td>226</td>\n",
       "      <td>226</td>\n",
       "      <td>0</td>\n",
       "    </tr>\n",
       "    <tr>\n",
       "      <th>2</th>\n",
       "      <td>226</td>\n",
       "      <td>226</td>\n",
       "      <td>226</td>\n",
       "      <td>226</td>\n",
       "      <td>226</td>\n",
       "      <td>226</td>\n",
       "      <td>226</td>\n",
       "      <td>226</td>\n",
       "      <td>226</td>\n",
       "      <td>226</td>\n",
       "      <td>...</td>\n",
       "      <td>226</td>\n",
       "      <td>226</td>\n",
       "      <td>226</td>\n",
       "      <td>226</td>\n",
       "      <td>226</td>\n",
       "      <td>226</td>\n",
       "      <td>226</td>\n",
       "      <td>226</td>\n",
       "      <td>226</td>\n",
       "      <td>0</td>\n",
       "    </tr>\n",
       "    <tr>\n",
       "      <th>3</th>\n",
       "      <td>226</td>\n",
       "      <td>226</td>\n",
       "      <td>226</td>\n",
       "      <td>226</td>\n",
       "      <td>226</td>\n",
       "      <td>226</td>\n",
       "      <td>226</td>\n",
       "      <td>226</td>\n",
       "      <td>226</td>\n",
       "      <td>226</td>\n",
       "      <td>...</td>\n",
       "      <td>226</td>\n",
       "      <td>226</td>\n",
       "      <td>226</td>\n",
       "      <td>226</td>\n",
       "      <td>226</td>\n",
       "      <td>226</td>\n",
       "      <td>226</td>\n",
       "      <td>226</td>\n",
       "      <td>226</td>\n",
       "      <td>0</td>\n",
       "    </tr>\n",
       "    <tr>\n",
       "      <th>4</th>\n",
       "      <td>226</td>\n",
       "      <td>226</td>\n",
       "      <td>226</td>\n",
       "      <td>226</td>\n",
       "      <td>226</td>\n",
       "      <td>226</td>\n",
       "      <td>226</td>\n",
       "      <td>226</td>\n",
       "      <td>226</td>\n",
       "      <td>226</td>\n",
       "      <td>...</td>\n",
       "      <td>226</td>\n",
       "      <td>226</td>\n",
       "      <td>226</td>\n",
       "      <td>226</td>\n",
       "      <td>226</td>\n",
       "      <td>226</td>\n",
       "      <td>226</td>\n",
       "      <td>226</td>\n",
       "      <td>226</td>\n",
       "      <td>0</td>\n",
       "    </tr>\n",
       "    <tr>\n",
       "      <th>...</th>\n",
       "      <td>...</td>\n",
       "      <td>...</td>\n",
       "      <td>...</td>\n",
       "      <td>...</td>\n",
       "      <td>...</td>\n",
       "      <td>...</td>\n",
       "      <td>...</td>\n",
       "      <td>...</td>\n",
       "      <td>...</td>\n",
       "      <td>...</td>\n",
       "      <td>...</td>\n",
       "      <td>...</td>\n",
       "      <td>...</td>\n",
       "      <td>...</td>\n",
       "      <td>...</td>\n",
       "      <td>...</td>\n",
       "      <td>...</td>\n",
       "      <td>...</td>\n",
       "      <td>...</td>\n",
       "      <td>...</td>\n",
       "      <td>...</td>\n",
       "    </tr>\n",
       "    <tr>\n",
       "      <th>27552</th>\n",
       "      <td>226</td>\n",
       "      <td>226</td>\n",
       "      <td>226</td>\n",
       "      <td>226</td>\n",
       "      <td>226</td>\n",
       "      <td>226</td>\n",
       "      <td>226</td>\n",
       "      <td>226</td>\n",
       "      <td>226</td>\n",
       "      <td>226</td>\n",
       "      <td>...</td>\n",
       "      <td>141</td>\n",
       "      <td>113</td>\n",
       "      <td>113</td>\n",
       "      <td>226</td>\n",
       "      <td>226</td>\n",
       "      <td>226</td>\n",
       "      <td>226</td>\n",
       "      <td>226</td>\n",
       "      <td>226</td>\n",
       "      <td>1</td>\n",
       "    </tr>\n",
       "    <tr>\n",
       "      <th>27553</th>\n",
       "      <td>226</td>\n",
       "      <td>226</td>\n",
       "      <td>226</td>\n",
       "      <td>226</td>\n",
       "      <td>226</td>\n",
       "      <td>226</td>\n",
       "      <td>226</td>\n",
       "      <td>226</td>\n",
       "      <td>226</td>\n",
       "      <td>226</td>\n",
       "      <td>...</td>\n",
       "      <td>226</td>\n",
       "      <td>226</td>\n",
       "      <td>226</td>\n",
       "      <td>226</td>\n",
       "      <td>226</td>\n",
       "      <td>226</td>\n",
       "      <td>226</td>\n",
       "      <td>226</td>\n",
       "      <td>226</td>\n",
       "      <td>1</td>\n",
       "    </tr>\n",
       "    <tr>\n",
       "      <th>27554</th>\n",
       "      <td>226</td>\n",
       "      <td>226</td>\n",
       "      <td>226</td>\n",
       "      <td>226</td>\n",
       "      <td>226</td>\n",
       "      <td>226</td>\n",
       "      <td>226</td>\n",
       "      <td>226</td>\n",
       "      <td>226</td>\n",
       "      <td>113</td>\n",
       "      <td>...</td>\n",
       "      <td>226</td>\n",
       "      <td>226</td>\n",
       "      <td>226</td>\n",
       "      <td>226</td>\n",
       "      <td>226</td>\n",
       "      <td>226</td>\n",
       "      <td>226</td>\n",
       "      <td>226</td>\n",
       "      <td>226</td>\n",
       "      <td>1</td>\n",
       "    </tr>\n",
       "    <tr>\n",
       "      <th>27555</th>\n",
       "      <td>226</td>\n",
       "      <td>226</td>\n",
       "      <td>226</td>\n",
       "      <td>226</td>\n",
       "      <td>226</td>\n",
       "      <td>226</td>\n",
       "      <td>226</td>\n",
       "      <td>226</td>\n",
       "      <td>226</td>\n",
       "      <td>226</td>\n",
       "      <td>...</td>\n",
       "      <td>226</td>\n",
       "      <td>226</td>\n",
       "      <td>226</td>\n",
       "      <td>226</td>\n",
       "      <td>226</td>\n",
       "      <td>226</td>\n",
       "      <td>226</td>\n",
       "      <td>226</td>\n",
       "      <td>226</td>\n",
       "      <td>1</td>\n",
       "    </tr>\n",
       "    <tr>\n",
       "      <th>27556</th>\n",
       "      <td>226</td>\n",
       "      <td>226</td>\n",
       "      <td>226</td>\n",
       "      <td>226</td>\n",
       "      <td>226</td>\n",
       "      <td>226</td>\n",
       "      <td>226</td>\n",
       "      <td>226</td>\n",
       "      <td>226</td>\n",
       "      <td>226</td>\n",
       "      <td>...</td>\n",
       "      <td>226</td>\n",
       "      <td>226</td>\n",
       "      <td>226</td>\n",
       "      <td>226</td>\n",
       "      <td>226</td>\n",
       "      <td>226</td>\n",
       "      <td>226</td>\n",
       "      <td>226</td>\n",
       "      <td>226</td>\n",
       "      <td>1</td>\n",
       "    </tr>\n",
       "  </tbody>\n",
       "</table>\n",
       "<p>27557 rows × 2723 columns</p>\n",
       "</div>"
      ],
      "text/plain": [
       "       feature4  feature5  feature6  feature7  feature8  feature9  feature10  \\\n",
       "0           226       226       226       226       226       226        226   \n",
       "1           226       226       226       226       226       226        226   \n",
       "2           226       226       226       226       226       226        226   \n",
       "3           226       226       226       226       226       226        226   \n",
       "4           226       226       226       226       226       226        226   \n",
       "...         ...       ...       ...       ...       ...       ...        ...   \n",
       "27552       226       226       226       226       226       226        226   \n",
       "27553       226       226       226       226       226       226        226   \n",
       "27554       226       226       226       226       226       226        226   \n",
       "27555       226       226       226       226       226       226        226   \n",
       "27556       226       226       226       226       226       226        226   \n",
       "\n",
       "       feature11  feature12  feature13  ...  feature3121  feature3122  \\\n",
       "0            226        226        226  ...          226          226   \n",
       "1            226        226        226  ...          226          226   \n",
       "2            226        226        226  ...          226          226   \n",
       "3            226        226        226  ...          226          226   \n",
       "4            226        226        226  ...          226          226   \n",
       "...          ...        ...        ...  ...          ...          ...   \n",
       "27552        226        226        226  ...          141          113   \n",
       "27553        226        226        226  ...          226          226   \n",
       "27554        226        226        113  ...          226          226   \n",
       "27555        226        226        226  ...          226          226   \n",
       "27556        226        226        226  ...          226          226   \n",
       "\n",
       "       feature3123  feature3124  feature3125  feature3126  feature3127  \\\n",
       "0              226          226          226          226          226   \n",
       "1              226          226          226          226          226   \n",
       "2              226          226          226          226          226   \n",
       "3              226          226          226          226          226   \n",
       "4              226          226          226          226          226   \n",
       "...            ...          ...          ...          ...          ...   \n",
       "27552          113          226          226          226          226   \n",
       "27553          226          226          226          226          226   \n",
       "27554          226          226          226          226          226   \n",
       "27555          226          226          226          226          226   \n",
       "27556          226          226          226          226          226   \n",
       "\n",
       "       feature3128  feature3129  label  \n",
       "0              226          226      0  \n",
       "1              226          226      0  \n",
       "2              226          226      0  \n",
       "3              226          226      0  \n",
       "4              226          226      0  \n",
       "...            ...          ...    ...  \n",
       "27552          226          226      1  \n",
       "27553          226          226      1  \n",
       "27554          226          226      1  \n",
       "27555          226          226      1  \n",
       "27556          226          226      1  \n",
       "\n",
       "[27557 rows x 2723 columns]"
      ]
     },
     "execution_count": 4,
     "metadata": {},
     "output_type": "execute_result"
    }
   ],
   "source": [
    "df"
   ]
  },
  {
   "cell_type": "code",
   "execution_count": 5,
   "id": "4e967dba",
   "metadata": {},
   "outputs": [],
   "source": [
    "X=df.iloc[:,:-1]"
   ]
  },
  {
   "cell_type": "code",
   "execution_count": 6,
   "id": "7674e7dd",
   "metadata": {},
   "outputs": [
    {
     "data": {
      "text/html": [
       "<div>\n",
       "<style scoped>\n",
       "    .dataframe tbody tr th:only-of-type {\n",
       "        vertical-align: middle;\n",
       "    }\n",
       "\n",
       "    .dataframe tbody tr th {\n",
       "        vertical-align: top;\n",
       "    }\n",
       "\n",
       "    .dataframe thead th {\n",
       "        text-align: right;\n",
       "    }\n",
       "</style>\n",
       "<table border=\"1\" class=\"dataframe\">\n",
       "  <thead>\n",
       "    <tr style=\"text-align: right;\">\n",
       "      <th></th>\n",
       "      <th>feature4</th>\n",
       "      <th>feature5</th>\n",
       "      <th>feature6</th>\n",
       "      <th>feature7</th>\n",
       "      <th>feature8</th>\n",
       "      <th>feature9</th>\n",
       "      <th>feature10</th>\n",
       "      <th>feature11</th>\n",
       "      <th>feature12</th>\n",
       "      <th>feature13</th>\n",
       "      <th>...</th>\n",
       "      <th>feature3120</th>\n",
       "      <th>feature3121</th>\n",
       "      <th>feature3122</th>\n",
       "      <th>feature3123</th>\n",
       "      <th>feature3124</th>\n",
       "      <th>feature3125</th>\n",
       "      <th>feature3126</th>\n",
       "      <th>feature3127</th>\n",
       "      <th>feature3128</th>\n",
       "      <th>feature3129</th>\n",
       "    </tr>\n",
       "  </thead>\n",
       "  <tbody>\n",
       "    <tr>\n",
       "      <th>0</th>\n",
       "      <td>226</td>\n",
       "      <td>226</td>\n",
       "      <td>226</td>\n",
       "      <td>226</td>\n",
       "      <td>226</td>\n",
       "      <td>226</td>\n",
       "      <td>226</td>\n",
       "      <td>226</td>\n",
       "      <td>226</td>\n",
       "      <td>226</td>\n",
       "      <td>...</td>\n",
       "      <td>226</td>\n",
       "      <td>226</td>\n",
       "      <td>226</td>\n",
       "      <td>226</td>\n",
       "      <td>226</td>\n",
       "      <td>226</td>\n",
       "      <td>226</td>\n",
       "      <td>226</td>\n",
       "      <td>226</td>\n",
       "      <td>226</td>\n",
       "    </tr>\n",
       "    <tr>\n",
       "      <th>1</th>\n",
       "      <td>226</td>\n",
       "      <td>226</td>\n",
       "      <td>226</td>\n",
       "      <td>226</td>\n",
       "      <td>226</td>\n",
       "      <td>226</td>\n",
       "      <td>226</td>\n",
       "      <td>226</td>\n",
       "      <td>226</td>\n",
       "      <td>226</td>\n",
       "      <td>...</td>\n",
       "      <td>226</td>\n",
       "      <td>226</td>\n",
       "      <td>226</td>\n",
       "      <td>226</td>\n",
       "      <td>226</td>\n",
       "      <td>226</td>\n",
       "      <td>226</td>\n",
       "      <td>226</td>\n",
       "      <td>226</td>\n",
       "      <td>226</td>\n",
       "    </tr>\n",
       "    <tr>\n",
       "      <th>2</th>\n",
       "      <td>226</td>\n",
       "      <td>226</td>\n",
       "      <td>226</td>\n",
       "      <td>226</td>\n",
       "      <td>226</td>\n",
       "      <td>226</td>\n",
       "      <td>226</td>\n",
       "      <td>226</td>\n",
       "      <td>226</td>\n",
       "      <td>226</td>\n",
       "      <td>...</td>\n",
       "      <td>226</td>\n",
       "      <td>226</td>\n",
       "      <td>226</td>\n",
       "      <td>226</td>\n",
       "      <td>226</td>\n",
       "      <td>226</td>\n",
       "      <td>226</td>\n",
       "      <td>226</td>\n",
       "      <td>226</td>\n",
       "      <td>226</td>\n",
       "    </tr>\n",
       "    <tr>\n",
       "      <th>3</th>\n",
       "      <td>226</td>\n",
       "      <td>226</td>\n",
       "      <td>226</td>\n",
       "      <td>226</td>\n",
       "      <td>226</td>\n",
       "      <td>226</td>\n",
       "      <td>226</td>\n",
       "      <td>226</td>\n",
       "      <td>226</td>\n",
       "      <td>226</td>\n",
       "      <td>...</td>\n",
       "      <td>226</td>\n",
       "      <td>226</td>\n",
       "      <td>226</td>\n",
       "      <td>226</td>\n",
       "      <td>226</td>\n",
       "      <td>226</td>\n",
       "      <td>226</td>\n",
       "      <td>226</td>\n",
       "      <td>226</td>\n",
       "      <td>226</td>\n",
       "    </tr>\n",
       "    <tr>\n",
       "      <th>4</th>\n",
       "      <td>226</td>\n",
       "      <td>226</td>\n",
       "      <td>226</td>\n",
       "      <td>226</td>\n",
       "      <td>226</td>\n",
       "      <td>226</td>\n",
       "      <td>226</td>\n",
       "      <td>226</td>\n",
       "      <td>226</td>\n",
       "      <td>226</td>\n",
       "      <td>...</td>\n",
       "      <td>226</td>\n",
       "      <td>226</td>\n",
       "      <td>226</td>\n",
       "      <td>226</td>\n",
       "      <td>226</td>\n",
       "      <td>226</td>\n",
       "      <td>226</td>\n",
       "      <td>226</td>\n",
       "      <td>226</td>\n",
       "      <td>226</td>\n",
       "    </tr>\n",
       "    <tr>\n",
       "      <th>...</th>\n",
       "      <td>...</td>\n",
       "      <td>...</td>\n",
       "      <td>...</td>\n",
       "      <td>...</td>\n",
       "      <td>...</td>\n",
       "      <td>...</td>\n",
       "      <td>...</td>\n",
       "      <td>...</td>\n",
       "      <td>...</td>\n",
       "      <td>...</td>\n",
       "      <td>...</td>\n",
       "      <td>...</td>\n",
       "      <td>...</td>\n",
       "      <td>...</td>\n",
       "      <td>...</td>\n",
       "      <td>...</td>\n",
       "      <td>...</td>\n",
       "      <td>...</td>\n",
       "      <td>...</td>\n",
       "      <td>...</td>\n",
       "      <td>...</td>\n",
       "    </tr>\n",
       "    <tr>\n",
       "      <th>27552</th>\n",
       "      <td>226</td>\n",
       "      <td>226</td>\n",
       "      <td>226</td>\n",
       "      <td>226</td>\n",
       "      <td>226</td>\n",
       "      <td>226</td>\n",
       "      <td>226</td>\n",
       "      <td>226</td>\n",
       "      <td>226</td>\n",
       "      <td>226</td>\n",
       "      <td>...</td>\n",
       "      <td>141</td>\n",
       "      <td>141</td>\n",
       "      <td>113</td>\n",
       "      <td>113</td>\n",
       "      <td>226</td>\n",
       "      <td>226</td>\n",
       "      <td>226</td>\n",
       "      <td>226</td>\n",
       "      <td>226</td>\n",
       "      <td>226</td>\n",
       "    </tr>\n",
       "    <tr>\n",
       "      <th>27553</th>\n",
       "      <td>226</td>\n",
       "      <td>226</td>\n",
       "      <td>226</td>\n",
       "      <td>226</td>\n",
       "      <td>226</td>\n",
       "      <td>226</td>\n",
       "      <td>226</td>\n",
       "      <td>226</td>\n",
       "      <td>226</td>\n",
       "      <td>226</td>\n",
       "      <td>...</td>\n",
       "      <td>226</td>\n",
       "      <td>226</td>\n",
       "      <td>226</td>\n",
       "      <td>226</td>\n",
       "      <td>226</td>\n",
       "      <td>226</td>\n",
       "      <td>226</td>\n",
       "      <td>226</td>\n",
       "      <td>226</td>\n",
       "      <td>226</td>\n",
       "    </tr>\n",
       "    <tr>\n",
       "      <th>27554</th>\n",
       "      <td>226</td>\n",
       "      <td>226</td>\n",
       "      <td>226</td>\n",
       "      <td>226</td>\n",
       "      <td>226</td>\n",
       "      <td>226</td>\n",
       "      <td>226</td>\n",
       "      <td>226</td>\n",
       "      <td>226</td>\n",
       "      <td>113</td>\n",
       "      <td>...</td>\n",
       "      <td>226</td>\n",
       "      <td>226</td>\n",
       "      <td>226</td>\n",
       "      <td>226</td>\n",
       "      <td>226</td>\n",
       "      <td>226</td>\n",
       "      <td>226</td>\n",
       "      <td>226</td>\n",
       "      <td>226</td>\n",
       "      <td>226</td>\n",
       "    </tr>\n",
       "    <tr>\n",
       "      <th>27555</th>\n",
       "      <td>226</td>\n",
       "      <td>226</td>\n",
       "      <td>226</td>\n",
       "      <td>226</td>\n",
       "      <td>226</td>\n",
       "      <td>226</td>\n",
       "      <td>226</td>\n",
       "      <td>226</td>\n",
       "      <td>226</td>\n",
       "      <td>226</td>\n",
       "      <td>...</td>\n",
       "      <td>226</td>\n",
       "      <td>226</td>\n",
       "      <td>226</td>\n",
       "      <td>226</td>\n",
       "      <td>226</td>\n",
       "      <td>226</td>\n",
       "      <td>226</td>\n",
       "      <td>226</td>\n",
       "      <td>226</td>\n",
       "      <td>226</td>\n",
       "    </tr>\n",
       "    <tr>\n",
       "      <th>27556</th>\n",
       "      <td>226</td>\n",
       "      <td>226</td>\n",
       "      <td>226</td>\n",
       "      <td>226</td>\n",
       "      <td>226</td>\n",
       "      <td>226</td>\n",
       "      <td>226</td>\n",
       "      <td>226</td>\n",
       "      <td>226</td>\n",
       "      <td>226</td>\n",
       "      <td>...</td>\n",
       "      <td>226</td>\n",
       "      <td>226</td>\n",
       "      <td>226</td>\n",
       "      <td>226</td>\n",
       "      <td>226</td>\n",
       "      <td>226</td>\n",
       "      <td>226</td>\n",
       "      <td>226</td>\n",
       "      <td>226</td>\n",
       "      <td>226</td>\n",
       "    </tr>\n",
       "  </tbody>\n",
       "</table>\n",
       "<p>27557 rows × 2722 columns</p>\n",
       "</div>"
      ],
      "text/plain": [
       "       feature4  feature5  feature6  feature7  feature8  feature9  feature10  \\\n",
       "0           226       226       226       226       226       226        226   \n",
       "1           226       226       226       226       226       226        226   \n",
       "2           226       226       226       226       226       226        226   \n",
       "3           226       226       226       226       226       226        226   \n",
       "4           226       226       226       226       226       226        226   \n",
       "...         ...       ...       ...       ...       ...       ...        ...   \n",
       "27552       226       226       226       226       226       226        226   \n",
       "27553       226       226       226       226       226       226        226   \n",
       "27554       226       226       226       226       226       226        226   \n",
       "27555       226       226       226       226       226       226        226   \n",
       "27556       226       226       226       226       226       226        226   \n",
       "\n",
       "       feature11  feature12  feature13  ...  feature3120  feature3121  \\\n",
       "0            226        226        226  ...          226          226   \n",
       "1            226        226        226  ...          226          226   \n",
       "2            226        226        226  ...          226          226   \n",
       "3            226        226        226  ...          226          226   \n",
       "4            226        226        226  ...          226          226   \n",
       "...          ...        ...        ...  ...          ...          ...   \n",
       "27552        226        226        226  ...          141          141   \n",
       "27553        226        226        226  ...          226          226   \n",
       "27554        226        226        113  ...          226          226   \n",
       "27555        226        226        226  ...          226          226   \n",
       "27556        226        226        226  ...          226          226   \n",
       "\n",
       "       feature3122  feature3123  feature3124  feature3125  feature3126  \\\n",
       "0              226          226          226          226          226   \n",
       "1              226          226          226          226          226   \n",
       "2              226          226          226          226          226   \n",
       "3              226          226          226          226          226   \n",
       "4              226          226          226          226          226   \n",
       "...            ...          ...          ...          ...          ...   \n",
       "27552          113          113          226          226          226   \n",
       "27553          226          226          226          226          226   \n",
       "27554          226          226          226          226          226   \n",
       "27555          226          226          226          226          226   \n",
       "27556          226          226          226          226          226   \n",
       "\n",
       "       feature3127  feature3128  feature3129  \n",
       "0              226          226          226  \n",
       "1              226          226          226  \n",
       "2              226          226          226  \n",
       "3              226          226          226  \n",
       "4              226          226          226  \n",
       "...            ...          ...          ...  \n",
       "27552          226          226          226  \n",
       "27553          226          226          226  \n",
       "27554          226          226          226  \n",
       "27555          226          226          226  \n",
       "27556          226          226          226  \n",
       "\n",
       "[27557 rows x 2722 columns]"
      ]
     },
     "execution_count": 6,
     "metadata": {},
     "output_type": "execute_result"
    }
   ],
   "source": [
    "X"
   ]
  },
  {
   "cell_type": "code",
   "execution_count": 7,
   "id": "9afa9883",
   "metadata": {},
   "outputs": [],
   "source": [
    "y=df.iloc[:,-1]"
   ]
  },
  {
   "cell_type": "code",
   "execution_count": 8,
   "id": "d1338f12",
   "metadata": {},
   "outputs": [
    {
     "data": {
      "text/plain": [
       "0        0\n",
       "1        0\n",
       "2        0\n",
       "3        0\n",
       "4        0\n",
       "        ..\n",
       "27552    1\n",
       "27553    1\n",
       "27554    1\n",
       "27555    1\n",
       "27556    1\n",
       "Name: label, Length: 27557, dtype: int64"
      ]
     },
     "execution_count": 8,
     "metadata": {},
     "output_type": "execute_result"
    }
   ],
   "source": [
    "y"
   ]
  },
  {
   "cell_type": "code",
   "execution_count": 9,
   "id": "5328a4d1",
   "metadata": {},
   "outputs": [
    {
     "data": {
      "text/plain": [
       "label\n",
       "1    13779\n",
       "0    13778\n",
       "Name: count, dtype: int64"
      ]
     },
     "execution_count": 9,
     "metadata": {},
     "output_type": "execute_result"
    }
   ],
   "source": [
    "y.value_counts()"
   ]
  },
  {
   "cell_type": "code",
   "execution_count": 10,
   "id": "48fcb209",
   "metadata": {},
   "outputs": [],
   "source": [
    "X=X/255"
   ]
  },
  {
   "cell_type": "code",
   "execution_count": 11,
   "id": "d574480a",
   "metadata": {},
   "outputs": [
    {
     "data": {
      "text/html": [
       "<div>\n",
       "<style scoped>\n",
       "    .dataframe tbody tr th:only-of-type {\n",
       "        vertical-align: middle;\n",
       "    }\n",
       "\n",
       "    .dataframe tbody tr th {\n",
       "        vertical-align: top;\n",
       "    }\n",
       "\n",
       "    .dataframe thead th {\n",
       "        text-align: right;\n",
       "    }\n",
       "</style>\n",
       "<table border=\"1\" class=\"dataframe\">\n",
       "  <thead>\n",
       "    <tr style=\"text-align: right;\">\n",
       "      <th></th>\n",
       "      <th>feature4</th>\n",
       "      <th>feature5</th>\n",
       "      <th>feature6</th>\n",
       "      <th>feature7</th>\n",
       "      <th>feature8</th>\n",
       "      <th>feature9</th>\n",
       "      <th>feature10</th>\n",
       "      <th>feature11</th>\n",
       "      <th>feature12</th>\n",
       "      <th>feature13</th>\n",
       "      <th>...</th>\n",
       "      <th>feature3120</th>\n",
       "      <th>feature3121</th>\n",
       "      <th>feature3122</th>\n",
       "      <th>feature3123</th>\n",
       "      <th>feature3124</th>\n",
       "      <th>feature3125</th>\n",
       "      <th>feature3126</th>\n",
       "      <th>feature3127</th>\n",
       "      <th>feature3128</th>\n",
       "      <th>feature3129</th>\n",
       "    </tr>\n",
       "  </thead>\n",
       "  <tbody>\n",
       "    <tr>\n",
       "      <th>0</th>\n",
       "      <td>0.886275</td>\n",
       "      <td>0.886275</td>\n",
       "      <td>0.886275</td>\n",
       "      <td>0.886275</td>\n",
       "      <td>0.886275</td>\n",
       "      <td>0.886275</td>\n",
       "      <td>0.886275</td>\n",
       "      <td>0.886275</td>\n",
       "      <td>0.886275</td>\n",
       "      <td>0.886275</td>\n",
       "      <td>...</td>\n",
       "      <td>0.886275</td>\n",
       "      <td>0.886275</td>\n",
       "      <td>0.886275</td>\n",
       "      <td>0.886275</td>\n",
       "      <td>0.886275</td>\n",
       "      <td>0.886275</td>\n",
       "      <td>0.886275</td>\n",
       "      <td>0.886275</td>\n",
       "      <td>0.886275</td>\n",
       "      <td>0.886275</td>\n",
       "    </tr>\n",
       "    <tr>\n",
       "      <th>1</th>\n",
       "      <td>0.886275</td>\n",
       "      <td>0.886275</td>\n",
       "      <td>0.886275</td>\n",
       "      <td>0.886275</td>\n",
       "      <td>0.886275</td>\n",
       "      <td>0.886275</td>\n",
       "      <td>0.886275</td>\n",
       "      <td>0.886275</td>\n",
       "      <td>0.886275</td>\n",
       "      <td>0.886275</td>\n",
       "      <td>...</td>\n",
       "      <td>0.886275</td>\n",
       "      <td>0.886275</td>\n",
       "      <td>0.886275</td>\n",
       "      <td>0.886275</td>\n",
       "      <td>0.886275</td>\n",
       "      <td>0.886275</td>\n",
       "      <td>0.886275</td>\n",
       "      <td>0.886275</td>\n",
       "      <td>0.886275</td>\n",
       "      <td>0.886275</td>\n",
       "    </tr>\n",
       "    <tr>\n",
       "      <th>2</th>\n",
       "      <td>0.886275</td>\n",
       "      <td>0.886275</td>\n",
       "      <td>0.886275</td>\n",
       "      <td>0.886275</td>\n",
       "      <td>0.886275</td>\n",
       "      <td>0.886275</td>\n",
       "      <td>0.886275</td>\n",
       "      <td>0.886275</td>\n",
       "      <td>0.886275</td>\n",
       "      <td>0.886275</td>\n",
       "      <td>...</td>\n",
       "      <td>0.886275</td>\n",
       "      <td>0.886275</td>\n",
       "      <td>0.886275</td>\n",
       "      <td>0.886275</td>\n",
       "      <td>0.886275</td>\n",
       "      <td>0.886275</td>\n",
       "      <td>0.886275</td>\n",
       "      <td>0.886275</td>\n",
       "      <td>0.886275</td>\n",
       "      <td>0.886275</td>\n",
       "    </tr>\n",
       "    <tr>\n",
       "      <th>3</th>\n",
       "      <td>0.886275</td>\n",
       "      <td>0.886275</td>\n",
       "      <td>0.886275</td>\n",
       "      <td>0.886275</td>\n",
       "      <td>0.886275</td>\n",
       "      <td>0.886275</td>\n",
       "      <td>0.886275</td>\n",
       "      <td>0.886275</td>\n",
       "      <td>0.886275</td>\n",
       "      <td>0.886275</td>\n",
       "      <td>...</td>\n",
       "      <td>0.886275</td>\n",
       "      <td>0.886275</td>\n",
       "      <td>0.886275</td>\n",
       "      <td>0.886275</td>\n",
       "      <td>0.886275</td>\n",
       "      <td>0.886275</td>\n",
       "      <td>0.886275</td>\n",
       "      <td>0.886275</td>\n",
       "      <td>0.886275</td>\n",
       "      <td>0.886275</td>\n",
       "    </tr>\n",
       "    <tr>\n",
       "      <th>4</th>\n",
       "      <td>0.886275</td>\n",
       "      <td>0.886275</td>\n",
       "      <td>0.886275</td>\n",
       "      <td>0.886275</td>\n",
       "      <td>0.886275</td>\n",
       "      <td>0.886275</td>\n",
       "      <td>0.886275</td>\n",
       "      <td>0.886275</td>\n",
       "      <td>0.886275</td>\n",
       "      <td>0.886275</td>\n",
       "      <td>...</td>\n",
       "      <td>0.886275</td>\n",
       "      <td>0.886275</td>\n",
       "      <td>0.886275</td>\n",
       "      <td>0.886275</td>\n",
       "      <td>0.886275</td>\n",
       "      <td>0.886275</td>\n",
       "      <td>0.886275</td>\n",
       "      <td>0.886275</td>\n",
       "      <td>0.886275</td>\n",
       "      <td>0.886275</td>\n",
       "    </tr>\n",
       "    <tr>\n",
       "      <th>...</th>\n",
       "      <td>...</td>\n",
       "      <td>...</td>\n",
       "      <td>...</td>\n",
       "      <td>...</td>\n",
       "      <td>...</td>\n",
       "      <td>...</td>\n",
       "      <td>...</td>\n",
       "      <td>...</td>\n",
       "      <td>...</td>\n",
       "      <td>...</td>\n",
       "      <td>...</td>\n",
       "      <td>...</td>\n",
       "      <td>...</td>\n",
       "      <td>...</td>\n",
       "      <td>...</td>\n",
       "      <td>...</td>\n",
       "      <td>...</td>\n",
       "      <td>...</td>\n",
       "      <td>...</td>\n",
       "      <td>...</td>\n",
       "      <td>...</td>\n",
       "    </tr>\n",
       "    <tr>\n",
       "      <th>27552</th>\n",
       "      <td>0.886275</td>\n",
       "      <td>0.886275</td>\n",
       "      <td>0.886275</td>\n",
       "      <td>0.886275</td>\n",
       "      <td>0.886275</td>\n",
       "      <td>0.886275</td>\n",
       "      <td>0.886275</td>\n",
       "      <td>0.886275</td>\n",
       "      <td>0.886275</td>\n",
       "      <td>0.886275</td>\n",
       "      <td>...</td>\n",
       "      <td>0.552941</td>\n",
       "      <td>0.552941</td>\n",
       "      <td>0.443137</td>\n",
       "      <td>0.443137</td>\n",
       "      <td>0.886275</td>\n",
       "      <td>0.886275</td>\n",
       "      <td>0.886275</td>\n",
       "      <td>0.886275</td>\n",
       "      <td>0.886275</td>\n",
       "      <td>0.886275</td>\n",
       "    </tr>\n",
       "    <tr>\n",
       "      <th>27553</th>\n",
       "      <td>0.886275</td>\n",
       "      <td>0.886275</td>\n",
       "      <td>0.886275</td>\n",
       "      <td>0.886275</td>\n",
       "      <td>0.886275</td>\n",
       "      <td>0.886275</td>\n",
       "      <td>0.886275</td>\n",
       "      <td>0.886275</td>\n",
       "      <td>0.886275</td>\n",
       "      <td>0.886275</td>\n",
       "      <td>...</td>\n",
       "      <td>0.886275</td>\n",
       "      <td>0.886275</td>\n",
       "      <td>0.886275</td>\n",
       "      <td>0.886275</td>\n",
       "      <td>0.886275</td>\n",
       "      <td>0.886275</td>\n",
       "      <td>0.886275</td>\n",
       "      <td>0.886275</td>\n",
       "      <td>0.886275</td>\n",
       "      <td>0.886275</td>\n",
       "    </tr>\n",
       "    <tr>\n",
       "      <th>27554</th>\n",
       "      <td>0.886275</td>\n",
       "      <td>0.886275</td>\n",
       "      <td>0.886275</td>\n",
       "      <td>0.886275</td>\n",
       "      <td>0.886275</td>\n",
       "      <td>0.886275</td>\n",
       "      <td>0.886275</td>\n",
       "      <td>0.886275</td>\n",
       "      <td>0.886275</td>\n",
       "      <td>0.443137</td>\n",
       "      <td>...</td>\n",
       "      <td>0.886275</td>\n",
       "      <td>0.886275</td>\n",
       "      <td>0.886275</td>\n",
       "      <td>0.886275</td>\n",
       "      <td>0.886275</td>\n",
       "      <td>0.886275</td>\n",
       "      <td>0.886275</td>\n",
       "      <td>0.886275</td>\n",
       "      <td>0.886275</td>\n",
       "      <td>0.886275</td>\n",
       "    </tr>\n",
       "    <tr>\n",
       "      <th>27555</th>\n",
       "      <td>0.886275</td>\n",
       "      <td>0.886275</td>\n",
       "      <td>0.886275</td>\n",
       "      <td>0.886275</td>\n",
       "      <td>0.886275</td>\n",
       "      <td>0.886275</td>\n",
       "      <td>0.886275</td>\n",
       "      <td>0.886275</td>\n",
       "      <td>0.886275</td>\n",
       "      <td>0.886275</td>\n",
       "      <td>...</td>\n",
       "      <td>0.886275</td>\n",
       "      <td>0.886275</td>\n",
       "      <td>0.886275</td>\n",
       "      <td>0.886275</td>\n",
       "      <td>0.886275</td>\n",
       "      <td>0.886275</td>\n",
       "      <td>0.886275</td>\n",
       "      <td>0.886275</td>\n",
       "      <td>0.886275</td>\n",
       "      <td>0.886275</td>\n",
       "    </tr>\n",
       "    <tr>\n",
       "      <th>27556</th>\n",
       "      <td>0.886275</td>\n",
       "      <td>0.886275</td>\n",
       "      <td>0.886275</td>\n",
       "      <td>0.886275</td>\n",
       "      <td>0.886275</td>\n",
       "      <td>0.886275</td>\n",
       "      <td>0.886275</td>\n",
       "      <td>0.886275</td>\n",
       "      <td>0.886275</td>\n",
       "      <td>0.886275</td>\n",
       "      <td>...</td>\n",
       "      <td>0.886275</td>\n",
       "      <td>0.886275</td>\n",
       "      <td>0.886275</td>\n",
       "      <td>0.886275</td>\n",
       "      <td>0.886275</td>\n",
       "      <td>0.886275</td>\n",
       "      <td>0.886275</td>\n",
       "      <td>0.886275</td>\n",
       "      <td>0.886275</td>\n",
       "      <td>0.886275</td>\n",
       "    </tr>\n",
       "  </tbody>\n",
       "</table>\n",
       "<p>27557 rows × 2722 columns</p>\n",
       "</div>"
      ],
      "text/plain": [
       "       feature4  feature5  feature6  feature7  feature8  feature9  feature10  \\\n",
       "0      0.886275  0.886275  0.886275  0.886275  0.886275  0.886275   0.886275   \n",
       "1      0.886275  0.886275  0.886275  0.886275  0.886275  0.886275   0.886275   \n",
       "2      0.886275  0.886275  0.886275  0.886275  0.886275  0.886275   0.886275   \n",
       "3      0.886275  0.886275  0.886275  0.886275  0.886275  0.886275   0.886275   \n",
       "4      0.886275  0.886275  0.886275  0.886275  0.886275  0.886275   0.886275   \n",
       "...         ...       ...       ...       ...       ...       ...        ...   \n",
       "27552  0.886275  0.886275  0.886275  0.886275  0.886275  0.886275   0.886275   \n",
       "27553  0.886275  0.886275  0.886275  0.886275  0.886275  0.886275   0.886275   \n",
       "27554  0.886275  0.886275  0.886275  0.886275  0.886275  0.886275   0.886275   \n",
       "27555  0.886275  0.886275  0.886275  0.886275  0.886275  0.886275   0.886275   \n",
       "27556  0.886275  0.886275  0.886275  0.886275  0.886275  0.886275   0.886275   \n",
       "\n",
       "       feature11  feature12  feature13  ...  feature3120  feature3121  \\\n",
       "0       0.886275   0.886275   0.886275  ...     0.886275     0.886275   \n",
       "1       0.886275   0.886275   0.886275  ...     0.886275     0.886275   \n",
       "2       0.886275   0.886275   0.886275  ...     0.886275     0.886275   \n",
       "3       0.886275   0.886275   0.886275  ...     0.886275     0.886275   \n",
       "4       0.886275   0.886275   0.886275  ...     0.886275     0.886275   \n",
       "...          ...        ...        ...  ...          ...          ...   \n",
       "27552   0.886275   0.886275   0.886275  ...     0.552941     0.552941   \n",
       "27553   0.886275   0.886275   0.886275  ...     0.886275     0.886275   \n",
       "27554   0.886275   0.886275   0.443137  ...     0.886275     0.886275   \n",
       "27555   0.886275   0.886275   0.886275  ...     0.886275     0.886275   \n",
       "27556   0.886275   0.886275   0.886275  ...     0.886275     0.886275   \n",
       "\n",
       "       feature3122  feature3123  feature3124  feature3125  feature3126  \\\n",
       "0         0.886275     0.886275     0.886275     0.886275     0.886275   \n",
       "1         0.886275     0.886275     0.886275     0.886275     0.886275   \n",
       "2         0.886275     0.886275     0.886275     0.886275     0.886275   \n",
       "3         0.886275     0.886275     0.886275     0.886275     0.886275   \n",
       "4         0.886275     0.886275     0.886275     0.886275     0.886275   \n",
       "...            ...          ...          ...          ...          ...   \n",
       "27552     0.443137     0.443137     0.886275     0.886275     0.886275   \n",
       "27553     0.886275     0.886275     0.886275     0.886275     0.886275   \n",
       "27554     0.886275     0.886275     0.886275     0.886275     0.886275   \n",
       "27555     0.886275     0.886275     0.886275     0.886275     0.886275   \n",
       "27556     0.886275     0.886275     0.886275     0.886275     0.886275   \n",
       "\n",
       "       feature3127  feature3128  feature3129  \n",
       "0         0.886275     0.886275     0.886275  \n",
       "1         0.886275     0.886275     0.886275  \n",
       "2         0.886275     0.886275     0.886275  \n",
       "3         0.886275     0.886275     0.886275  \n",
       "4         0.886275     0.886275     0.886275  \n",
       "...            ...          ...          ...  \n",
       "27552     0.886275     0.886275     0.886275  \n",
       "27553     0.886275     0.886275     0.886275  \n",
       "27554     0.886275     0.886275     0.886275  \n",
       "27555     0.886275     0.886275     0.886275  \n",
       "27556     0.886275     0.886275     0.886275  \n",
       "\n",
       "[27557 rows x 2722 columns]"
      ]
     },
     "execution_count": 11,
     "metadata": {},
     "output_type": "execute_result"
    }
   ],
   "source": [
    "X"
   ]
  },
  {
   "cell_type": "code",
   "execution_count": 12,
   "id": "66bbb8d9",
   "metadata": {},
   "outputs": [],
   "source": [
    "from sklearn.model_selection import train_test_split"
   ]
  },
  {
   "cell_type": "code",
   "execution_count": 13,
   "id": "0e3f6178",
   "metadata": {},
   "outputs": [],
   "source": [
    "import matplotlib.pyplot as plt"
   ]
  },
  {
   "cell_type": "code",
   "execution_count": 14,
   "id": "05fe93cb",
   "metadata": {},
   "outputs": [],
   "source": [
    "from sklearn.metrics import confusion_matrix, roc_curve, roc_auc_score, balanced_accuracy_score,auc,accuracy_score, classification_report\n"
   ]
  },
  {
   "cell_type": "code",
   "execution_count": 15,
   "id": "1d3426a2",
   "metadata": {},
   "outputs": [],
   "source": [
    "#decision tree"
   ]
  },
  {
   "cell_type": "code",
   "execution_count": 16,
   "id": "ba398694",
   "metadata": {},
   "outputs": [],
   "source": [
    "X_train, X_test, y_train, y_test = train_test_split(X, y, test_size=0.2, random_state=42)"
   ]
  },
  {
   "cell_type": "code",
   "execution_count": 17,
   "id": "e5556e79",
   "metadata": {},
   "outputs": [],
   "source": [
    "from sklearn.tree import DecisionTreeClassifier"
   ]
  },
  {
   "cell_type": "code",
   "execution_count": 18,
   "id": "226dcf2d",
   "metadata": {},
   "outputs": [
    {
     "data": {
      "text/plain": [
       "DecisionTreeClassifier(criterion='entropy', max_depth=6, random_state=42)"
      ]
     },
     "execution_count": 18,
     "metadata": {},
     "output_type": "execute_result"
    }
   ],
   "source": [
    "dt = DecisionTreeClassifier(criterion='entropy', max_depth=6, min_samples_leaf=1, min_samples_split=2, random_state=42)\n",
    "dt.fit(X_train, y_train)"
   ]
  },
  {
   "cell_type": "code",
   "execution_count": 19,
   "id": "4df4bb70",
   "metadata": {},
   "outputs": [],
   "source": [
    "dt_y_pred = dt.predict(X_test)\n",
    "dt_y_proba = dt.predict_proba(X_test)[:, 1]"
   ]
  },
  {
   "cell_type": "code",
   "execution_count": 20,
   "id": "04ee306f",
   "metadata": {},
   "outputs": [],
   "source": [
    "cm = confusion_matrix(y_test, dt_y_pred)\n",
    "TP = cm[1, 1]\n",
    "TN = cm[0, 0]\n",
    "FP = cm[0, 1]\n",
    "FN = cm[1, 0]"
   ]
  },
  {
   "cell_type": "code",
   "execution_count": 21,
   "id": "ccf05e49",
   "metadata": {},
   "outputs": [],
   "source": [
    "TPR = TP / (TP + FN)  \n",
    "TNR = TN / (TN + FP)  \n",
    "balanced_acc = balanced_accuracy_score(y_test, dt_y_pred)\n",
    "roc_auc = auc(*roc_curve(y_test, dt_y_proba)[:2])\n",
    "accuracy = accuracy_score(y_test, dt_y_pred)\n",
    "class_report = classification_report(y_test, dt_y_pred)"
   ]
  },
  {
   "cell_type": "code",
   "execution_count": 22,
   "id": "c0a20890",
   "metadata": {},
   "outputs": [
    {
     "name": "stdout",
     "output_type": "stream",
     "text": [
      "Confusion Matrix:\n",
      "[[1740 1080]\n",
      " [1188 1504]]\n",
      "True Positive Rate (TPR): 0.5587\n",
      "True Negative Rate (TNR): 0.6170\n",
      "Balanced Accuracy: 0.5879\n",
      "ROC AUC Score: 0.6204\n",
      "Accuracy: 0.5885\n",
      "Classification Report:\n",
      "              precision    recall  f1-score   support\n",
      "\n",
      "           0       0.59      0.62      0.61      2820\n",
      "           1       0.58      0.56      0.57      2692\n",
      "\n",
      "    accuracy                           0.59      5512\n",
      "   macro avg       0.59      0.59      0.59      5512\n",
      "weighted avg       0.59      0.59      0.59      5512\n",
      "\n"
     ]
    }
   ],
   "source": [
    "print(\"Confusion Matrix:\")\n",
    "print(cm)\n",
    "print(f\"True Positive Rate (TPR): {TPR:.4f}\")\n",
    "print(f\"True Negative Rate (TNR): {TNR:.4f}\")\n",
    "print(f\"Balanced Accuracy: {balanced_acc:.4f}\")\n",
    "print(f\"ROC AUC Score: {roc_auc:.4f}\")\n",
    "print(f\"Accuracy: {accuracy:.4f}\")\n",
    "print(\"Classification Report:\")\n",
    "print(class_report)\n"
   ]
  },
  {
   "cell_type": "code",
   "execution_count": 23,
   "id": "a19919a2",
   "metadata": {},
   "outputs": [
    {
     "data": {
      "image/png": "[encoded data removed]",
      "text/plain": [
       "<Figure size 432x288 with 1 Axes>"
      ]
     },
     "metadata": {
      "needs_background": "light"
     },
     "output_type": "display_data"
    }
   ],
   "source": [
    "fpr, tpr, _ = roc_curve(y_test, dt_y_proba)\n",
    "plt.plot(fpr, tpr, label=f'ROC Curve (AUC = {roc_auc:.4f})')\n",
    "plt.plot([0, 1], [0, 1], 'k--')\n",
    "plt.xlabel('False Positive Rate')\n",
    "plt.ylabel('True Positive Rate')\n",
    "plt.title('ROC Curve')\n",
    "plt.legend()\n",
    "plt.show()\n"
   ]
  },
  {
   "cell_type": "code",
   "execution_count": 24,
   "id": "069d654a",
   "metadata": {},
   "outputs": [],
   "source": [
    "#extra tree classifier"
   ]
  },
  {
   "cell_type": "code",
   "execution_count": 25,
   "id": "5b26d2c1",
   "metadata": {},
   "outputs": [],
   "source": [
    "from sklearn.ensemble import ExtraTreesClassifier"
   ]
  },
  {
   "cell_type": "code",
   "execution_count": 26,
   "id": "7f65e176",
   "metadata": {},
   "outputs": [
    {
     "data": {
      "text/plain": [
       "ExtraTreesClassifier(max_depth=10, min_samples_leaf=2, min_samples_split=10,\n",
       "                     n_estimators=200, random_state=42)"
      ]
     },
     "execution_count": 26,
     "metadata": {},
     "output_type": "execute_result"
    }
   ],
   "source": [
    "etc = ExtraTreesClassifier(n_estimators=200, max_depth=10, min_samples_leaf=2, min_samples_split=10, random_state=42)\n",
    "etc.fit(X_train, y_train)\n"
   ]
  },
  {
   "cell_type": "code",
   "execution_count": 27,
   "id": "5016b774",
   "metadata": {},
   "outputs": [],
   "source": [
    "etc_y_pred = etc.predict(X_test)\n",
    "etc_y_proba = etc.predict_proba(X_test)[:, 1]"
   ]
  },
  {
   "cell_type": "code",
   "execution_count": 28,
   "id": "f4ad2d97",
   "metadata": {},
   "outputs": [],
   "source": [
    "cm = confusion_matrix(y_test, etc_y_pred)\n",
    "TP = cm[1, 1]\n",
    "TN = cm[0, 0]\n",
    "FP = cm[0, 1]\n",
    "FN = cm[1, 0]"
   ]
  },
  {
   "cell_type": "code",
   "execution_count": 29,
   "id": "b81fe3e4",
   "metadata": {},
   "outputs": [],
   "source": [
    "TPR = TP / (TP + FN)  \n",
    "TNR = TN / (TN + FP)  \n",
    "balanced_acc = balanced_accuracy_score(y_test, etc_y_pred)\n",
    "roc_auc = auc(*roc_curve(y_test, etc_y_proba)[:2])\n",
    "accuracy = accuracy_score(y_test, etc_y_pred)\n",
    "class_report = classification_report(y_test, etc_y_pred)"
   ]
  },
  {
   "cell_type": "code",
   "execution_count": 30,
   "id": "ef485a33",
   "metadata": {},
   "outputs": [
    {
     "name": "stdout",
     "output_type": "stream",
     "text": [
      "Confusion Matrix:\n",
      "[[1967  853]\n",
      " [ 795 1897]]\n",
      "True Positive Rate (TPR): 0.7047\n",
      "True Negative Rate (TNR): 0.6975\n",
      "Balanced Accuracy: 0.7011\n",
      "ROC AUC Score: 0.7740\n",
      "Accuracy: 0.7010\n",
      "Classification Report:\n",
      "              precision    recall  f1-score   support\n",
      "\n",
      "           0       0.71      0.70      0.70      2820\n",
      "           1       0.69      0.70      0.70      2692\n",
      "\n",
      "    accuracy                           0.70      5512\n",
      "   macro avg       0.70      0.70      0.70      5512\n",
      "weighted avg       0.70      0.70      0.70      5512\n",
      "\n"
     ]
    }
   ],
   "source": [
    "print(\"Confusion Matrix:\")\n",
    "print(cm)\n",
    "print(f\"True Positive Rate (TPR): {TPR:.4f}\")\n",
    "print(f\"True Negative Rate (TNR): {TNR:.4f}\")\n",
    "print(f\"Balanced Accuracy: {balanced_acc:.4f}\")\n",
    "print(f\"ROC AUC Score: {roc_auc:.4f}\")\n",
    "print(f\"Accuracy: {accuracy:.4f}\")\n",
    "print(\"Classification Report:\")\n",
    "print(class_report)\n"
   ]
  },
  {
   "cell_type": "code",
   "execution_count": 31,
   "id": "1a60f0f3",
   "metadata": {},
   "outputs": [
    {
     "data": {
      "image/png": "[encoded data removed]",
      "text/plain": [
       "<Figure size 432x288 with 1 Axes>"
      ]
     },
     "metadata": {
      "needs_background": "light"
     },
     "output_type": "display_data"
    }
   ],
   "source": [
    "fpr, tpr, _ = roc_curve(y_test, etc_y_proba)\n",
    "plt.plot(fpr, tpr, label=f'ROC Curve (AUC = {roc_auc:.4f})')\n",
    "plt.plot([0, 1], [0, 1], 'k--')\n",
    "plt.xlabel('False Positive Rate')\n",
    "plt.ylabel('True Positive Rate')\n",
    "plt.title('ROC Curve')\n",
    "plt.legend()\n",
    "plt.show()\n"
   ]
  },
  {
   "cell_type": "code",
   "execution_count": 32,
   "id": "9f40023e",
   "metadata": {},
   "outputs": [],
   "source": [
    "#random forest"
   ]
  },
  {
   "cell_type": "code",
   "execution_count": 33,
   "id": "f48ac871",
   "metadata": {},
   "outputs": [],
   "source": [
    "from sklearn.ensemble import RandomForestClassifier"
   ]
  },
  {
   "cell_type": "code",
   "execution_count": 34,
   "id": "2626e56e",
   "metadata": {},
   "outputs": [
    {
     "data": {
      "text/plain": [
       "RandomForestClassifier(criterion='entropy', max_depth=6, min_samples_leaf=8,\n",
       "                       min_samples_split=5, n_estimators=50, random_state=42)"
      ]
     },
     "execution_count": 34,
     "metadata": {},
     "output_type": "execute_result"
    }
   ],
   "source": [
    "rf = RandomForestClassifier(n_estimators=50, \n",
    "    criterion='entropy', \n",
    "    max_depth=6, \n",
    "    min_samples_leaf=8, \n",
    "    min_samples_split=5, \n",
    "    random_state=42)\n",
    "rf.fit(X_train, y_train)"
   ]
  },
  {
   "cell_type": "code",
   "execution_count": 35,
   "id": "6626c864",
   "metadata": {},
   "outputs": [],
   "source": [
    "rf_y_pred = rf.predict(X_test)\n",
    "rf_y_proba = rf.predict_proba(X_test)[:, 1]"
   ]
  },
  {
   "cell_type": "code",
   "execution_count": 36,
   "id": "8e2375b3",
   "metadata": {},
   "outputs": [],
   "source": [
    "cm = confusion_matrix(y_test, rf_y_pred)\n",
    "TP = cm[1, 1]\n",
    "TN = cm[0, 0]\n",
    "FP = cm[0, 1]\n",
    "FN = cm[1, 0]"
   ]
  },
  {
   "cell_type": "code",
   "execution_count": 37,
   "id": "19700659",
   "metadata": {},
   "outputs": [],
   "source": [
    "TPR = TP / (TP + FN)  \n",
    "TNR = TN / (TN + FP)  \n",
    "balanced_acc = balanced_accuracy_score(y_test, rf_y_pred)\n",
    "roc_auc = auc(*roc_curve(y_test, rf_y_proba)[:2])\n",
    "accuracy = accuracy_score(y_test, rf_y_pred)\n",
    "class_report = classification_report(y_test, rf_y_pred)"
   ]
  },
  {
   "cell_type": "code",
   "execution_count": 38,
   "id": "1b7a612b",
   "metadata": {},
   "outputs": [
    {
     "name": "stdout",
     "output_type": "stream",
     "text": [
      "Confusion Matrix:\n",
      "[[1960  860]\n",
      " [ 822 1870]]\n",
      "True Positive Rate (TPR): 0.6947\n",
      "True Negative Rate (TNR): 0.6950\n",
      "Balanced Accuracy: 0.6948\n",
      "ROC AUC Score: 0.7624\n",
      "Accuracy: 0.6948\n",
      "Classification Report:\n",
      "              precision    recall  f1-score   support\n",
      "\n",
      "           0       0.70      0.70      0.70      2820\n",
      "           1       0.68      0.69      0.69      2692\n",
      "\n",
      "    accuracy                           0.69      5512\n",
      "   macro avg       0.69      0.69      0.69      5512\n",
      "weighted avg       0.69      0.69      0.69      5512\n",
      "\n"
     ]
    }
   ],
   "source": [
    "print(\"Confusion Matrix:\")\n",
    "print(cm)\n",
    "print(f\"True Positive Rate (TPR): {TPR:.4f}\")\n",
    "print(f\"True Negative Rate (TNR): {TNR:.4f}\")\n",
    "print(f\"Balanced Accuracy: {balanced_acc:.4f}\")\n",
    "print(f\"ROC AUC Score: {roc_auc:.4f}\")\n",
    "print(f\"Accuracy: {accuracy:.4f}\")\n",
    "print(\"Classification Report:\")\n",
    "print(class_report)\n"
   ]
  },
  {
   "cell_type": "code",
   "execution_count": 39,
   "id": "f8f1b379",
   "metadata": {},
   "outputs": [
    {
     "data": {
      "image/png": "[encoded data removed]",
      "text/plain": [
       "<Figure size 432x288 with 1 Axes>"
      ]
     },
     "metadata": {
      "needs_background": "light"
     },
     "output_type": "display_data"
    }
   ],
   "source": [
    "fpr, tpr, _ = roc_curve(y_test, rf_y_proba)\n",
    "plt.plot(fpr, tpr, label=f'ROC Curve (AUC = {roc_auc:.4f})')\n",
    "plt.plot([0, 1], [0, 1], 'k--')\n",
    "plt.xlabel('False Positive Rate')\n",
    "plt.ylabel('True Positive Rate')\n",
    "plt.title('ROC Curve')\n",
    "plt.legend()\n",
    "plt.show()\n"
   ]
  },
  {
   "cell_type": "code",
   "execution_count": 40,
   "id": "97a2fddf",
   "metadata": {},
   "outputs": [],
   "source": [
    "#adaboost"
   ]
  },
  {
   "cell_type": "code",
   "execution_count": 41,
   "id": "6f0034af",
   "metadata": {},
   "outputs": [],
   "source": [
    "from sklearn.ensemble import AdaBoostClassifier"
   ]
  },
  {
   "cell_type": "code",
   "execution_count": 42,
   "id": "d1f8640a",
   "metadata": {},
   "outputs": [
    {
     "data": {
      "text/plain": [
       "AdaBoostClassifier(base_estimator=DecisionTreeClassifier(max_depth=2),\n",
       "                   learning_rate=0.1, n_estimators=200, random_state=42)"
      ]
     },
     "execution_count": 42,
     "metadata": {},
     "output_type": "execute_result"
    }
   ],
   "source": [
    "base_estimator = DecisionTreeClassifier(max_depth=2)\n",
    "ada = AdaBoostClassifier(base_estimator=base_estimator, learning_rate=0.1, n_estimators=200, random_state=42)\n",
    "ada.fit(X_train, y_train)"
   ]
  },
  {
   "cell_type": "code",
   "execution_count": 43,
   "id": "991103da",
   "metadata": {},
   "outputs": [],
   "source": [
    "ada_y_pred = ada.predict(X_test)\n",
    "ada_y_proba = ada.predict_proba(X_test)[:, 1]"
   ]
  },
  {
   "cell_type": "code",
   "execution_count": 44,
   "id": "05d114f9",
   "metadata": {},
   "outputs": [],
   "source": [
    "cm = confusion_matrix(y_test, ada_y_pred)\n",
    "TP = cm[1, 1]\n",
    "TN = cm[0, 0]\n",
    "FP = cm[0, 1]\n",
    "FN = cm[1, 0]"
   ]
  },
  {
   "cell_type": "code",
   "execution_count": 45,
   "id": "4938914e",
   "metadata": {},
   "outputs": [],
   "source": [
    "TPR = TP / (TP + FN)  \n",
    "TNR = TN / (TN + FP)  \n",
    "balanced_acc = balanced_accuracy_score(y_test, ada_y_pred)\n",
    "roc_auc = auc(*roc_curve(y_test, ada_y_proba)[:2])\n",
    "accuracy = accuracy_score(y_test, ada_y_pred)\n",
    "class_report = classification_report(y_test, ada_y_pred)"
   ]
  },
  {
   "cell_type": "code",
   "execution_count": 46,
   "id": "a9160013",
   "metadata": {},
   "outputs": [
    {
     "name": "stdout",
     "output_type": "stream",
     "text": [
      "Confusion Matrix:\n",
      "[[2075  745]\n",
      " [ 837 1855]]\n",
      "True Positive Rate (TPR): 0.6891\n",
      "True Negative Rate (TNR): 0.7358\n",
      "Balanced Accuracy: 0.7124\n",
      "ROC AUC Score: 0.7857\n",
      "Accuracy: 0.7130\n",
      "Classification Report:\n",
      "              precision    recall  f1-score   support\n",
      "\n",
      "           0       0.71      0.74      0.72      2820\n",
      "           1       0.71      0.69      0.70      2692\n",
      "\n",
      "    accuracy                           0.71      5512\n",
      "   macro avg       0.71      0.71      0.71      5512\n",
      "weighted avg       0.71      0.71      0.71      5512\n",
      "\n"
     ]
    }
   ],
   "source": [
    "print(\"Confusion Matrix:\")\n",
    "print(cm)\n",
    "print(f\"True Positive Rate (TPR): {TPR:.4f}\")\n",
    "print(f\"True Negative Rate (TNR): {TNR:.4f}\")\n",
    "print(f\"Balanced Accuracy: {balanced_acc:.4f}\")\n",
    "print(f\"ROC AUC Score: {roc_auc:.4f}\")\n",
    "print(f\"Accuracy: {accuracy:.4f}\")\n",
    "print(\"Classification Report:\")\n",
    "print(class_report)\n"
   ]
  },
  {
   "cell_type": "code",
   "execution_count": 47,
   "id": "d11eca1f",
   "metadata": {},
   "outputs": [
    {
     "data": {
      "image/png": "[encoded data removed]",
      "text/plain": [
       "<Figure size 432x288 with 1 Axes>"
      ]
     },
     "metadata": {
      "needs_background": "light"
     },
     "output_type": "display_data"
    }
   ],
   "source": [
    "fpr, tpr, _ = roc_curve(y_test, ada_y_proba)\n",
    "plt.plot(fpr, tpr, label=f'ROC Curve (AUC = {roc_auc:.4f})')\n",
    "plt.plot([0, 1], [0, 1], 'k--')\n",
    "plt.xlabel('False Positive Rate')\n",
    "plt.ylabel('True Positive Rate')\n",
    "plt.title('ROC Curve')\n",
    "plt.legend()\n",
    "plt.show()\n"
   ]
  },
  {
   "cell_type": "code",
   "execution_count": 48,
   "id": "dc5b2515",
   "metadata": {},
   "outputs": [],
   "source": [
    "import xgboost as xgb"
   ]
  },
  {
   "cell_type": "code",
   "execution_count": 49,
   "id": "4546e2af",
   "metadata": {},
   "outputs": [
    {
     "data": {
      "text/plain": [
       "XGBClassifier(base_score=None, booster=None, callbacks=None,\n",
       "              colsample_bylevel=None, colsample_bynode=None,\n",
       "              colsample_bytree=None, device=None, early_stopping_rounds=None,\n",
       "              enable_categorical=False, eval_metric='logloss',\n",
       "              feature_types=None, gamma=None, grow_policy=None,\n",
       "              importance_type=None, interaction_constraints=None,\n",
       "              learning_rate=0.1, max_bin=None, max_cat_threshold=None,\n",
       "              max_cat_to_onehot=None, max_delta_step=None, max_depth=5,\n",
       "              max_leaves=None, min_child_weight=4, missing=nan,\n",
       "              monotone_constraints=None, multi_strategy=None, n_estimators=150,\n",
       "              n_jobs=None, num_parallel_tree=None, random_state=42, ...)"
      ]
     },
     "execution_count": 49,
     "metadata": {},
     "output_type": "execute_result"
    }
   ],
   "source": [
    "xgb_clf = xgb.XGBClassifier(\n",
    "    learning_rate=0.1,\n",
    "    max_depth=5,\n",
    "    min_child_weight=4,\n",
    "    n_estimators=150,\n",
    "    subsample=1.0,\n",
    "    eval_metric='logloss',\n",
    "    random_state=42\n",
    ")\n",
    "xgb_clf.fit(X_train, y_train)"
   ]
  },
  {
   "cell_type": "code",
   "execution_count": 50,
   "id": "b4a645c6",
   "metadata": {},
   "outputs": [],
   "source": [
    "xgb_y_pred = xgb_clf.predict(X_test)\n",
    "xgb_y_proba = xgb_clf.predict_proba(X_test)[:, 1]"
   ]
  },
  {
   "cell_type": "code",
   "execution_count": 51,
   "id": "0ce0909c",
   "metadata": {},
   "outputs": [],
   "source": [
    "cm = confusion_matrix(y_test, xgb_y_pred)\n",
    "TP = cm[1, 1]\n",
    "TN = cm[0, 0]\n",
    "FP = cm[0, 1]\n",
    "FN = cm[1, 0]"
   ]
  },
  {
   "cell_type": "code",
   "execution_count": 52,
   "id": "00c5a929",
   "metadata": {},
   "outputs": [],
   "source": [
    "TPR = TP / (TP + FN)  \n",
    "TNR = TN / (TN + FP)  \n",
    "balanced_acc = balanced_accuracy_score(y_test, xgb_y_pred)\n",
    "roc_auc = auc(*roc_curve(y_test, xgb_y_proba)[:2])\n",
    "accuracy = accuracy_score(y_test, xgb_y_pred)\n",
    "class_report = classification_report(y_test, xgb_y_pred)"
   ]
  },
  {
   "cell_type": "code",
   "execution_count": 53,
   "id": "d2eca344",
   "metadata": {},
   "outputs": [
    {
     "name": "stdout",
     "output_type": "stream",
     "text": [
      "Confusion Matrix:\n",
      "[[2089  731]\n",
      " [ 776 1916]]\n",
      "True Positive Rate (TPR): 0.7117\n",
      "True Negative Rate (TNR): 0.7408\n",
      "Balanced Accuracy: 0.7263\n",
      "ROC AUC Score: 0.8047\n",
      "Accuracy: 0.7266\n",
      "Classification Report:\n",
      "              precision    recall  f1-score   support\n",
      "\n",
      "           0       0.73      0.74      0.73      2820\n",
      "           1       0.72      0.71      0.72      2692\n",
      "\n",
      "    accuracy                           0.73      5512\n",
      "   macro avg       0.73      0.73      0.73      5512\n",
      "weighted avg       0.73      0.73      0.73      5512\n",
      "\n"
     ]
    }
   ],
   "source": [
    "print(\"Confusion Matrix:\")\n",
    "print(cm)\n",
    "print(f\"True Positive Rate (TPR): {TPR:.4f}\")\n",
    "print(f\"True Negative Rate (TNR): {TNR:.4f}\")\n",
    "print(f\"Balanced Accuracy: {balanced_acc:.4f}\")\n",
    "print(f\"ROC AUC Score: {roc_auc:.4f}\")\n",
    "print(f\"Accuracy: {accuracy:.4f}\")\n",
    "print(\"Classification Report:\")\n",
    "print(class_report)\n"
   ]
  },
  {
   "cell_type": "code",
   "execution_count": 54,
   "id": "351cfaf3",
   "metadata": {},
   "outputs": [
    {
     "data": {
      "image/png": "[encoded data removed]",
      "text/plain": [
       "<Figure size 432x288 with 1 Axes>"
      ]
     },
     "metadata": {
      "needs_background": "light"
     },
     "output_type": "display_data"
    }
   ],
   "source": [
    "fpr, tpr, _ = roc_curve(y_test, xgb_y_proba)\n",
    "plt.plot(fpr, tpr, label=f'ROC Curve (AUC = {roc_auc:.4f})')\n",
    "plt.plot([0, 1], [0, 1], 'k--')\n",
    "plt.xlabel('False Positive Rate')\n",
    "plt.ylabel('True Positive Rate')\n",
    "plt.title('ROC Curve')\n",
    "plt.legend()\n",
    "plt.show()\n"
   ]
  },
  {
   "cell_type": "code",
   "execution_count": 55,
   "id": "573deaf2",
   "metadata": {},
   "outputs": [],
   "source": [
    "import joblib"
   ]
  },
  {
   "cell_type": "code",
   "execution_count": 56,
   "id": "11f664c5",
   "metadata": {},
   "outputs": [
    {
     "data": {
      "text/plain": [
       "['decision_tree_model.pkl']"
      ]
     },
     "execution_count": 56,
     "metadata": {},
     "output_type": "execute_result"
    }
   ],
   "source": [
    "joblib.dump(dt, \"decision_tree_model.pkl\")"
   ]
  },
  {
   "cell_type": "code",
   "execution_count": 57,
   "id": "db277331",
   "metadata": {},
   "outputs": [
    {
     "data": {
      "text/plain": [
       "['extra_tree_classifier_model.pkl']"
      ]
     },
     "execution_count": 57,
     "metadata": {},
     "output_type": "execute_result"
    }
   ],
   "source": [
    "joblib.dump(etc, \"extra_tree_classifier_model.pkl\")"
   ]
  },
  {
   "cell_type": "code",
   "execution_count": 58,
   "id": "9019ca8c",
   "metadata": {},
   "outputs": [
    {
     "data": {
      "text/plain": [
       "['random_forest_model.pkl']"
      ]
     },
     "execution_count": 58,
     "metadata": {},
     "output_type": "execute_result"
    }
   ],
   "source": [
    "joblib.dump(rf, \"random_forest_model.pkl\")"
   ]
  },
  {
   "cell_type": "code",
   "execution_count": 59,
   "id": "22d82b84",
   "metadata": {},
   "outputs": [
    {
     "data": {
      "text/plain": [
       "['adaboost_model.pkl']"
      ]
     },
     "execution_count": 59,
     "metadata": {},
     "output_type": "execute_result"
    }
   ],
   "source": [
    "joblib.dump(ada, \"adaboost_model.pkl\")"
   ]
  },
  {
   "cell_type": "code",
   "execution_count": 60,
   "id": "596234a6",
   "metadata": {},
   "outputs": [
    {
     "data": {
      "text/plain": [
       "['xgboost_model.pkl']"
      ]
     },
     "execution_count": 60,
     "metadata": {},
     "output_type": "execute_result"
    }
   ],
   "source": [
    "joblib.dump(xgb_clf, \"xgboost_model.pkl\")"
   ]
  },
  {
   "cell_type": "code",
   "execution_count": null,
   "id": "89dec2c8",
   "metadata": {},
   "outputs": [],
   "source": []
  }
 ],
 "metadata": {
  "kernelspec": {
   "display_name": "Python 3 (ipykernel)",
   "language": "python",
   "name": "python3"
  },
  "language_info": {
   "codemirror_mode": {
    "name": "ipython",
    "version": 3
   },
   "file_extension": ".py",
   "mimetype": "text/x-python",
   "name": "python",
   "nbconvert_exporter": "python",
   "pygments_lexer": "ipython3",
   "version": "3.9.12"
  }
 },
 "nbformat": 4,
 "nbformat_minor": 5
}
